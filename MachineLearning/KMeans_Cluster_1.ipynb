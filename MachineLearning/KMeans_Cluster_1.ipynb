{
 "cells": [
  {
   "cell_type": "code",
   "execution_count": 1,
   "metadata": {},
   "outputs": [],
   "source": [
    "import numpy as np\n",
    "import pandas as pd\n",
    "import matplotlib.pyplot as plt\n",
    "from sklearn.cluster import KMeans"
   ]
  },
  {
   "cell_type": "code",
   "execution_count": 5,
   "metadata": {},
   "outputs": [],
   "source": [
    "veriler  = pd.read_csv(\"musteriler.csv\")\n",
    "\n",
    "hacim_maas= veriler.iloc[:, 2:4].values\n",
    "hacim_maas_pd= pd.DataFrame(hacim_maas)"
   ]
  },
  {
   "cell_type": "code",
   "execution_count": 6,
   "metadata": {},
   "outputs": [
    {
     "data": {
      "text/plain": [
       "(      0      1\n",
       " 0    60  69900\n",
       " 1    30  79000\n",
       " 2    52  85500\n",
       " 3    57  17100\n",
       " 4    55   5500\n",
       " ..   ..    ...\n",
       " 195  22  96600\n",
       " 196  39  83700\n",
       " 197  25  34000\n",
       " 198  30  42000\n",
       " 199  23  47600\n",
       " \n",
       " [200 rows x 2 columns],\n",
       "       No Cinsiyet  Yas  Hacim  Maas\n",
       " 0      1        K   60  69900  6325\n",
       " 1      2        K   30  79000  5200\n",
       " 2      3        E   52  85500  7825\n",
       " 3      4        E   57  17100  8375\n",
       " 4      5        E   55   5500  5450\n",
       " ..   ...      ...  ...    ...   ...\n",
       " 195  196        E   22  96600  7900\n",
       " 196  197        E   39  83700  7675\n",
       " 197  198        K   25  34000  4000\n",
       " 198  199        K   30  42000  5500\n",
       " 199  200        K   23  47600  4150\n",
       " \n",
       " [200 rows x 5 columns])"
      ]
     },
     "execution_count": 6,
     "metadata": {},
     "output_type": "execute_result"
    }
   ],
   "source": [
    "hacim_maas_pd, veriler"
   ]
  },
  {
   "cell_type": "code",
   "execution_count": 9,
   "metadata": {},
   "outputs": [
    {
     "name": "stdout",
     "output_type": "stream",
     "text": [
      "[[5.77391304e+01 1.04386957e+05]\n",
      " [4.14235294e+01 2.20694118e+04]\n",
      " [4.42608696e+01 5.86434783e+04]]\n"
     ]
    }
   ],
   "source": [
    "kmeans= KMeans(n_clusters=3, init=\"k-means++\") #Random_state verilebilir.\n",
    "\n",
    "kmeans.fit(hacim_maas)\n",
    "\n",
    "print(kmeans.cluster_centers_)"
   ]
  },
  {
   "cell_type": "code",
   "execution_count": 11,
   "metadata": {},
   "outputs": [
    {
     "data": {
      "text/plain": [
       "[<matplotlib.lines.Line2D at 0x21ce255bfd0>]"
      ]
     },
     "execution_count": 11,
     "metadata": {},
     "output_type": "execute_result"
    },
    {
     "data": {
      "image/png": "[encoded data removed]",
      "text/plain": [
       "<Figure size 432x288 with 1 Axes>"
      ]
     },
     "metadata": {
      "needs_background": "light"
     },
     "output_type": "display_data"
    }
   ],
   "source": [
    "\n",
    "sonuclar=[]\n",
    "\n",
    "for i in range(1,10):\n",
    "    kmeans= KMeans(n_clusters=i,init=\"k-means++\", random_state=1)\n",
    "    kmeans.fit(hacim_maas)\n",
    "    sonuclar.append(kmeans.inertia_)\n",
    "\n",
    "plt.plot(range(1,10), sonuclar)"
   ]
  },
  {
   "cell_type": "code",
   "execution_count": null,
   "metadata": {},
   "outputs": [],
   "source": []
  }
 ],
 "metadata": {
  "kernelspec": {
   "display_name": "Python 3",
   "language": "python",
   "name": "python3"
  },
  "language_info": {
   "codemirror_mode": {
    "name": "ipython",
    "version": 3
   },
   "file_extension": ".py",
   "mimetype": "text/x-python",
   "name": "python",
   "nbconvert_exporter": "python",
   "pygments_lexer": "ipython3",
   "version": "3.8.5"
  }
 },
 "nbformat": 4,
 "nbformat_minor": 4
}
