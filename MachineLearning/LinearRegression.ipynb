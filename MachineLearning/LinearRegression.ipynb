{
 "cells": [
  {
   "cell_type": "code",
   "execution_count": 3,
   "metadata": {},
   "outputs": [
    {
     "data": {
      "text/plain": [
       "Text(0, 0.5, 'satislar')"
      ]
     },
     "execution_count": 3,
     "metadata": {},
     "output_type": "execute_result"
    },
    {
     "data": {
      "image/png": "[encoded data removed]",
      "text/plain": [
       "<Figure size 432x288 with 1 Axes>"
      ]
     },
     "metadata": {
      "needs_background": "light"
     },
     "output_type": "display_data"
    }
   ],
   "source": [
    "# -*- coding: utf-8 -*-\n",
    "\n",
    "#1.kutuphaneler\n",
    "import numpy as np\n",
    "import matplotlib.pyplot as plt\n",
    "import pandas as pd\n",
    "\n",
    "#2.veri onisleme\n",
    "#2.1.veri yukleme\n",
    "veriler = pd.read_excel('satis.xlsx')\n",
    "#pd.read_csv(\"veriler.csv\")\n",
    "#test\n",
    "#print(veriler)\n",
    "aylar= veriler[[\"aylar\"]]\n",
    "satislar= veriler[[\"satislar\"]]\n",
    "\n",
    "#x = veriler.iloc[:,1:4].values #bağımsız değişkenler\n",
    "#y = veriler.iloc[:,4:].values #bağımlı değişken\n",
    "\n",
    "from sklearn.preprocessing import StandardScaler\n",
    "from sklearn.model_selection import train_test_split\n",
    "\n",
    "\n",
    "x_train, x_test, y_train, y_test= train_test_split(aylar, satislar, test_size=0.33, random_state=0)\n",
    "\"\"\"\n",
    "sc= StandardScaler()\n",
    "\n",
    "X_train = sc.fit_transform(x_train)\n",
    "X_test = sc.fit_transform(x_test)\n",
    "\n",
    "Y_train = sc.fit_transform(y_train)\n",
    "Y_test = sc.fit_transform(y_test)\n",
    "\"\"\"\n",
    "from sklearn.linear_model import LinearRegression\n",
    "\n",
    "lr = LinearRegression()\n",
    "\n",
    "lr.fit(x_train, y_train)\n",
    "tahmin = lr.predict(x_test)\n",
    "\n",
    "x_train= x_train.sort_index()\n",
    "y_train= y_train.sort_index()\n",
    "\n",
    "plt.plot(x_train, y_train, \"g+\")\n",
    "plt.plot(x_test, lr.predict(x_test),\"r\")\n",
    "\n",
    "plt.title(\"aylara gore satis\")\n",
    "plt.xlabel(\"aylar\")\n",
    "plt.ylabel(\"satislar\")\n",
    "\n",
    "\n",
    "\n",
    "\n",
    "\n",
    "\n"
   ]
  },
  {
   "cell_type": "code",
   "execution_count": null,
   "metadata": {},
   "outputs": [],
   "source": []
  }
 ],
 "metadata": {
  "kernelspec": {
   "display_name": "Python 3",
   "language": "python",
   "name": "python3"
  },
  "language_info": {
   "codemirror_mode": {
    "name": "ipython",
    "version": 3
   },
   "file_extension": ".py",
   "mimetype": "text/x-python",
   "name": "python",
   "nbconvert_exporter": "python",
   "pygments_lexer": "ipython3",
   "version": "3.8.5"
  }
 },
 "nbformat": 4,
 "nbformat_minor": 4
}
